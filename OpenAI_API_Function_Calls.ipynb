{
  "nbformat": 4,
  "nbformat_minor": 0,
  "metadata": {
    "colab": {
      "provenance": [],
      "include_colab_link": true
    },
    "kernelspec": {
      "name": "python3",
      "display_name": "Python 3"
    },
    "language_info": {
      "name": "python"
    }
  },
  "cells": [
    {
      "cell_type": "markdown",
      "metadata": {
        "id": "view-in-github",
        "colab_type": "text"
      },
      "source": [
        "<a href=\"https://colab.research.google.com/github/slashui/Crypto-Sports/blob/master/OpenAI_API_Function_Calls.ipynb\" target=\"_parent\"><img src=\"https://colab.research.google.com/assets/colab-badge.svg\" alt=\"Open In Colab\"/></a>"
      ]
    },
    {
      "cell_type": "markdown",
      "source": [
        "Function Calls:\n",
        "\n",
        "1. Create chatbots that answer questions by **calling external tools** (e.g., like ChatGPT Plugins)\n",
        "\n",
        "2. Convert **natural language** into API calls or database queries\n",
        "\n",
        "3. Extract **structured** data from text"
      ],
      "metadata": {
        "id": "HNXP8HXHdE5d"
      }
    },
    {
      "cell_type": "markdown",
      "source": [
        "### Example 1- Send Email"
      ],
      "metadata": {
        "id": "S6UPS19hcvba"
      }
    },
    {
      "cell_type": "markdown",
      "source": [
        "Email Anya to see if she wants to get coffee next Friday\n",
        "\n",
        "`send_email(to: string, body: string)`"
      ],
      "metadata": {
        "id": "hiVzsiW-cqgk"
      }
    },
    {
      "cell_type": "markdown",
      "source": [
        "## Example 2 - Weather API"
      ],
      "metadata": {
        "id": "sp4m_utDc0r5"
      }
    },
    {
      "cell_type": "markdown",
      "source": [
        " What's the weather like in Bengaluru?\n",
        "\n",
        " `get_current_weather(location: string, unit: 'celsius' | 'fahrenheit')`\n"
      ],
      "metadata": {
        "id": "6R7nIExxc5Ky"
      }
    },
    {
      "cell_type": "markdown",
      "source": [
        "### Example 3 - Natural Language to Function/SQL\n",
        "\n",
        "Who are my top ten customers this month?\n",
        "\n",
        "`get_customers_by_revenue(start_date: string, end_date: string, limit: int)`\n",
        "\n",
        "How many orders did Acme, Inc. place last month?\n",
        "\n",
        "`sql_query(query: string)`"
      ],
      "metadata": {
        "id": "rIdFpSWOdr2K"
      }
    },
    {
      "cell_type": "markdown",
      "source": [
        "## Example 4 - Extract Structured Data\n",
        "\n",
        "Extract details of the names mentioned in this Wikipedia article .....\n",
        "\n",
        "`extract_people_data(people: [{name: string, birthday: string, location: string}])`"
      ],
      "metadata": {
        "id": "JZN2vsYvdUBe"
      }
    },
    {
      "cell_type": "code",
      "source": [],
      "metadata": {
        "id": "Lu9WxIkXcruT"
      },
      "execution_count": null,
      "outputs": []
    },
    {
      "cell_type": "markdown",
      "source": [
        "# Code Example"
      ],
      "metadata": {
        "id": "I337lzWferAP"
      }
    },
    {
      "cell_type": "code",
      "source": [
        "!pip install openai -q"
      ],
      "metadata": {
        "colab": {
          "base_uri": "https://localhost:8080/"
        },
        "id": "EF7BsGNkerq2",
        "outputId": "cbc76b05-e583-432e-b754-68f3e4a861a1"
      },
      "execution_count": null,
      "outputs": [
        {
          "output_type": "stream",
          "name": "stdout",
          "text": [
            "\u001b[2K     \u001b[90m━━━━━━━━━━━━━━━━━━━━━━━━━━━━━━━━━━━━━━━━\u001b[0m \u001b[32m73.6/73.6 kB\u001b[0m \u001b[31m6.5 MB/s\u001b[0m eta \u001b[36m0:00:00\u001b[0m\n",
            "\u001b[2K     \u001b[90m━━━━━━━━━━━━━━━━━━━━━━━━━━━━━━━━━━━━━━━━\u001b[0m \u001b[32m1.0/1.0 MB\u001b[0m \u001b[31m55.1 MB/s\u001b[0m eta \u001b[36m0:00:00\u001b[0m\n",
            "\u001b[2K     \u001b[90m━━━━━━━━━━━━━━━━━━━━━━━━━━━━━━━━━━━━━━\u001b[0m \u001b[32m114.5/114.5 kB\u001b[0m \u001b[31m14.0 MB/s\u001b[0m eta \u001b[36m0:00:00\u001b[0m\n",
            "\u001b[2K     \u001b[90m━━━━━━━━━━━━━━━━━━━━━━━━━━━━━━━━━━━━━━\u001b[0m \u001b[32m268.8/268.8 kB\u001b[0m \u001b[31m27.0 MB/s\u001b[0m eta \u001b[36m0:00:00\u001b[0m\n",
            "\u001b[2K     \u001b[90m━━━━━━━━━━━━━━━━━━━━━━━━━━━━━━━━━━━━━━\u001b[0m \u001b[32m149.6/149.6 kB\u001b[0m \u001b[31m14.4 MB/s\u001b[0m eta \u001b[36m0:00:00\u001b[0m\n",
            "\u001b[?25h"
          ]
        }
      ]
    },
    {
      "cell_type": "code",
      "source": [
        "import openai\n",
        "from tenacity import retry, wait_random_exponential, stop_after_attempt\n",
        "from termcolor import colored\n",
        "import requests"
      ],
      "metadata": {
        "id": "VbJhAqkTe5x8"
      },
      "execution_count": null,
      "outputs": []
    },
    {
      "cell_type": "code",
      "source": [
        "GPT_MODEL = \"gpt-3.5-turbo-0613\"\n"
      ],
      "metadata": {
        "id": "1qn9VSBMexul"
      },
      "execution_count": null,
      "outputs": []
    },
    {
      "cell_type": "code",
      "source": [
        "openai.api_key = 'sk-xxx'"
      ],
      "metadata": {
        "id": "3oWGyH3xe9ic"
      },
      "execution_count": null,
      "outputs": []
    },
    {
      "cell_type": "code",
      "source": [
        "@retry(wait=wait_random_exponential(min=1, max=40), stop=stop_after_attempt(3))\n",
        "def chat_completion_request(messages, functions=None, model=GPT_MODEL):\n",
        "    headers = {\n",
        "        \"Content-Type\": \"application/json\",\n",
        "        \"Authorization\": \"Bearer \" + openai.api_key,\n",
        "    }\n",
        "    json_data = {\"model\": model, \"messages\": messages}\n",
        "    if functions is not None:\n",
        "        json_data.update({\"functions\": functions})\n",
        "    try:\n",
        "        response = requests.post(\n",
        "            \"https://api.openai.com/v1/chat/completions\",\n",
        "            headers=headers,\n",
        "            json=json_data,\n",
        "        )\n",
        "        return response\n",
        "    except Exception as e:\n",
        "        print(\"Unable to generate ChatCompletion response\")\n",
        "        print(f\"Exception: {e}\")\n",
        "        return e"
      ],
      "metadata": {
        "id": "kE4D8RDUmbmX"
      },
      "execution_count": null,
      "outputs": []
    },
    {
      "cell_type": "code",
      "source": [
        "class Conversation:\n",
        "    def __init__(self):\n",
        "        self.conversation_history = []\n",
        "\n",
        "    def add_message(self, role, content):\n",
        "        message = {\"role\": role, \"content\": content}\n",
        "        self.conversation_history.append(message)\n",
        "\n",
        "    def display_conversation(self, detailed=False):\n",
        "        role_to_color = {\n",
        "            \"system\": \"red\",\n",
        "            \"user\": \"green\",\n",
        "            \"assistant\": \"blue\",\n",
        "            \"function\": \"magenta\",\n",
        "        }\n",
        "        for message in self.conversation_history:\n",
        "            print(\n",
        "                colored(\n",
        "                    f\"{message['role']}: {message['content']}\\n\\n\",\n",
        "                    role_to_color[message[\"role\"]],\n",
        "                )\n",
        "            )"
      ],
      "metadata": {
        "id": "jL_Np5RhfSEU"
      },
      "execution_count": null,
      "outputs": []
    },
    {
      "cell_type": "markdown",
      "source": [
        "Function Specification"
      ],
      "metadata": {
        "id": "u5x0Oo2xfn66"
      }
    },
    {
      "cell_type": "code",
      "source": [
        "functions = [\n",
        "    {\n",
        "        \"name\": \"get_current_weather\",\n",
        "        \"description\": \"Get the current weather\",\n",
        "        \"parameters\": {\n",
        "            \"type\": \"object\",\n",
        "            \"properties\": {\n",
        "                \"location\": {\n",
        "                    \"type\": \"string\",\n",
        "                    \"description\": \"The city and state, e.g. San Francisco, CA\",\n",
        "                },\n",
        "                \"format\": {\n",
        "                    \"type\": \"string\",\n",
        "                    \"enum\": [\"celsius\", \"fahrenheit\"],\n",
        "                    \"description\": \"The temperature unit to use. Infer this from the users location.\",\n",
        "                },\n",
        "            },\n",
        "            \"required\": [\"location\", \"format\"],\n",
        "        },\n",
        "    }\n",
        "]"
      ],
      "metadata": {
        "id": "6FeYE01MflrY"
      },
      "execution_count": null,
      "outputs": []
    },
    {
      "cell_type": "code",
      "source": [
        "conversation = Conversation()\n"
      ],
      "metadata": {
        "id": "lcdT3lcgfqHa"
      },
      "execution_count": null,
      "outputs": []
    },
    {
      "cell_type": "code",
      "source": [
        "conversation.add_message(\"user\", \"what is the weather like today in Bangalore\")\n"
      ],
      "metadata": {
        "id": "uPPtZqA2funf"
      },
      "execution_count": null,
      "outputs": []
    },
    {
      "cell_type": "code",
      "source": [
        "#without function call\n",
        "chat_response = chat_completion_request(\n",
        "    conversation.conversation_history,\n",
        "    functions = None\n",
        ")\n",
        "print(chat_response)"
      ],
      "metadata": {
        "colab": {
          "base_uri": "https://localhost:8080/"
        },
        "id": "qKShIVOwfu4E",
        "outputId": "4ffc175f-eb45-4ff7-bfb2-aa1855b86e14"
      },
      "execution_count": null,
      "outputs": [
        {
          "output_type": "stream",
          "name": "stdout",
          "text": [
            "<Response [200]>\n"
          ]
        }
      ]
    },
    {
      "cell_type": "code",
      "source": [
        "chat_response.text"
      ],
      "metadata": {
        "colab": {
          "base_uri": "https://localhost:8080/",
          "height": 122
        },
        "id": "4jXfb_cYfvkz",
        "outputId": "1a26cf05-504a-488a-e1ed-6f4754089e14"
      },
      "execution_count": null,
      "outputs": [
        {
          "output_type": "execute_result",
          "data": {
            "text/plain": [
              "'{\\n  \"id\": \"chatcmpl-7RZo5FDtr0W7lGKrkHOQKrohCGrbe\",\\n  \"object\": \"chat.completion\",\\n  \"created\": 1686806853,\\n  \"model\": \"gpt-3.5-turbo-0613\",\\n  \"choices\": [\\n    {\\n      \"index\": 0,\\n      \"message\": {\\n        \"role\": \"assistant\",\\n        \"content\": \"I\\'m sorry, but as an AI language model, I don\\'t have real-time data. I suggest checking a reliable weather website or using a weather application to get the current weather information for Bangalore.\"\\n      },\\n      \"finish_reason\": \"stop\"\\n    }\\n  ],\\n  \"usage\": {\\n    \"prompt_tokens\": 25,\\n    \"completion_tokens\": 40,\\n    \"total_tokens\": 65\\n  }\\n}\\n'"
            ],
            "application/vnd.google.colaboratory.intrinsic+json": {
              "type": "string"
            }
          },
          "metadata": {},
          "execution_count": 37
        }
      ]
    },
    {
      "cell_type": "code",
      "source": [
        "#with function call\n",
        "chat_response = chat_completion_request(\n",
        "    conversation.conversation_history,\n",
        "    functions = functions\n",
        ")\n",
        "\n",
        "chat_response.json()"
      ],
      "metadata": {
        "colab": {
          "base_uri": "https://localhost:8080/"
        },
        "id": "q5SWRnsTg1GN",
        "outputId": "d39dde7b-2573-4df4-d791-d075e8028a1a"
      },
      "execution_count": null,
      "outputs": [
        {
          "output_type": "execute_result",
          "data": {
            "text/plain": [
              "{'id': 'chatcmpl-7RZpmBBt8fE6XktaWHx7Xz2rWsDtG',\n",
              " 'object': 'chat.completion',\n",
              " 'created': 1686806958,\n",
              " 'model': 'gpt-3.5-turbo-0613',\n",
              " 'choices': [{'index': 0,\n",
              "   'message': {'role': 'assistant',\n",
              "    'content': None,\n",
              "    'function_call': {'name': 'get_current_weather',\n",
              "     'arguments': '{\\n  \"location\": \"Bangalore\",\\n  \"format\": \"celsius\"\\n}'}},\n",
              "   'finish_reason': 'function_call'}],\n",
              " 'usage': {'prompt_tokens': 102, 'completion_tokens': 25, 'total_tokens': 127}}"
            ]
          },
          "metadata": {},
          "execution_count": 43
        }
      ]
    },
    {
      "cell_type": "code",
      "source": [],
      "metadata": {
        "colab": {
          "base_uri": "https://localhost:8080/"
        },
        "id": "DyDGlwIfhbD9",
        "outputId": "9011f61e-827c-4614-e992-feeb4993caa2"
      },
      "execution_count": null,
      "outputs": [
        {
          "output_type": "execute_result",
          "data": {
            "text/plain": [
              "{'id': 'chatcmpl-7RZo8UUNSRZx1rkiLqAxRsut2zlOH',\n",
              " 'object': 'chat.completion',\n",
              " 'created': 1686806856,\n",
              " 'model': 'gpt-3.5-turbo-0613',\n",
              " 'choices': [{'index': 0,\n",
              "   'message': {'role': 'assistant',\n",
              "    'content': None,\n",
              "    'function_call': {'name': 'get_current_weather',\n",
              "     'arguments': '{\\n\"location\": \"Bangalore\",\\n\"format\": \"celsius\"\\n}'}},\n",
              "   'finish_reason': 'function_call'}],\n",
              " 'usage': {'prompt_tokens': 102, 'completion_tokens': 23, 'total_tokens': 125}}"
            ]
          },
          "metadata": {},
          "execution_count": 42
        }
      ]
    },
    {
      "cell_type": "code",
      "source": [
        "import json\n",
        "json.loads(chat_response.json()['choices'][0]['message']['function_call']['arguments'])"
      ],
      "metadata": {
        "colab": {
          "base_uri": "https://localhost:8080/"
        },
        "id": "c-fRFisshrdh",
        "outputId": "d7f9711a-825d-4f94-bc87-8be34a96cdc7"
      },
      "execution_count": null,
      "outputs": [
        {
          "output_type": "execute_result",
          "data": {
            "text/plain": [
              "{'location': 'Bangalore', 'format': 'celsius'}"
            ]
          },
          "metadata": {},
          "execution_count": 70
        }
      ]
    },
    {
      "cell_type": "code",
      "source": [
        "conversation.add_message(\"user\", \"what is the weather like today in Berlin\")\n"
      ],
      "metadata": {
        "id": "-g8_UpZDn4td"
      },
      "execution_count": null,
      "outputs": []
    },
    {
      "cell_type": "code",
      "source": [
        "#with function call\n",
        "chat_response = chat_completion_request(\n",
        "    conversation.conversation_history,\n",
        "    functions = functions\n",
        ")\n",
        "\n",
        "chat_response.json()"
      ],
      "metadata": {
        "colab": {
          "base_uri": "https://localhost:8080/"
        },
        "id": "C4SmOHFAn6xH",
        "outputId": "7202ebca-b2a2-4492-de9f-b46c6f6067c9"
      },
      "execution_count": null,
      "outputs": [
        {
          "output_type": "execute_result",
          "data": {
            "text/plain": [
              "{'id': 'chatcmpl-7RaGE9SXdoe7AfbK5ApBYmxXktjIs',\n",
              " 'object': 'chat.completion',\n",
              " 'created': 1686808598,\n",
              " 'model': 'gpt-3.5-turbo-0613',\n",
              " 'choices': [{'index': 0,\n",
              "   'message': {'role': 'assistant',\n",
              "    'content': None,\n",
              "    'function_call': {'name': 'get_current_weather',\n",
              "     'arguments': '{\\n  \"location\": \"Berlin\",\\n  \"format\": \"celsius\"\\n}'}},\n",
              "   'finish_reason': 'function_call'}],\n",
              " 'usage': {'prompt_tokens': 140, 'completion_tokens': 24, 'total_tokens': 164}}"
            ]
          },
          "metadata": {},
          "execution_count": 79
        }
      ]
    },
    {
      "cell_type": "code",
      "source": [
        "import json\n",
        "json.loads(chat_response.json()['choices'][0]['message']['function_call']['arguments'])"
      ],
      "metadata": {
        "colab": {
          "base_uri": "https://localhost:8080/"
        },
        "id": "aHW02ygtn8s0",
        "outputId": "2ba5c70f-7d30-4e19-ea93-c7922f6995dc"
      },
      "execution_count": null,
      "outputs": [
        {
          "output_type": "execute_result",
          "data": {
            "text/plain": [
              "{'location': 'Berlin', 'format': 'celsius'}"
            ]
          },
          "metadata": {},
          "execution_count": 80
        }
      ]
    },
    {
      "cell_type": "code",
      "source": [],
      "metadata": {
        "id": "zS_sEWm3oAUE"
      },
      "execution_count": null,
      "outputs": []
    }
  ]
}